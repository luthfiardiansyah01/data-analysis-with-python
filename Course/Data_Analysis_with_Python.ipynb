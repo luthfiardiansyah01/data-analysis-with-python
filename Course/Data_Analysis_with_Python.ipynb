{
  "nbformat": 4,
  "nbformat_minor": 0,
  "metadata": {
    "colab": {
      "provenance": [],
      "collapsed_sections": []
    },
    "kernelspec": {
      "name": "python3",
      "display_name": "Python 3"
    },
    "language_info": {
      "name": "python"
    }
  },
  "cells": [
    {
      "cell_type": "code",
      "source": [
        "import numpy as np\n",
        "import pandas as pd\n",
        "import matplotlib.pyplot as plt"
      ],
      "metadata": {
        "id": "5adH1XnwFkaw"
      },
      "execution_count": null,
      "outputs": []
    },
    {
      "cell_type": "markdown",
      "source": [
        "### Numpy Arrays"
      ],
      "metadata": {
        "id": "0qRnUtEYyQp5"
      }
    },
    {
      "cell_type": "code",
      "execution_count": null,
      "metadata": {
        "colab": {
          "base_uri": "https://localhost:8080/"
        },
        "id": "PJ6S5j98DgwI",
        "outputId": "555569f7-f870-42d8-a455-eb5db771ac43"
      },
      "outputs": [
        {
          "output_type": "stream",
          "name": "stdout",
          "text": [
            "[['a' 'b']\n",
            " ['d' 'e']\n",
            " ['g' 'h']]\n"
          ]
        }
      ],
      "source": [
        "A = np.array([\n",
        "    ['a', 'b', 'c'],\n",
        "    ['d', 'e', 'f'],\n",
        "    ['g', 'h', 'i']\n",
        "])\n",
        "\n",
        "print(A[:, :2])"
      ]
    },
    {
      "cell_type": "markdown",
      "source": [
        "### Numpy Operations"
      ],
      "metadata": {
        "id": "ZPVzhsumyhNC"
      }
    },
    {
      "cell_type": "code",
      "source": [
        "a = np.arange(5)\n",
        "a + 20"
      ],
      "metadata": {
        "colab": {
          "base_uri": "https://localhost:8080/"
        },
        "id": "PoH6z1SoDw33",
        "outputId": "306b5401-0afe-40c0-9959-8b8806f742c3"
      },
      "execution_count": null,
      "outputs": [
        {
          "output_type": "execute_result",
          "data": {
            "text/plain": [
              "array([20, 21, 22, 23, 24])"
            ]
          },
          "metadata": {},
          "execution_count": 12
        }
      ]
    },
    {
      "cell_type": "markdown",
      "source": [
        "### Numpy Boolean Arrays"
      ],
      "metadata": {
        "id": "CfVMMIWXyw5k"
      }
    },
    {
      "cell_type": "code",
      "source": [
        "a = np.arange(5)\n",
        "\n",
        "print(a <= 3)"
      ],
      "metadata": {
        "colab": {
          "base_uri": "https://localhost:8080/"
        },
        "id": "Tjs7-oO-ECt1",
        "outputId": "ece5b086-8f06-428d-8921-b17404496ca2"
      },
      "execution_count": null,
      "outputs": [
        {
          "output_type": "stream",
          "name": "stdout",
          "text": [
            "[ True  True  True  True False]\n"
          ]
        }
      ]
    },
    {
      "cell_type": "markdown",
      "source": [
        "### Pandas Introduction"
      ],
      "metadata": {
        "id": "f6QqFRcey-31"
      }
    },
    {
      "cell_type": "code",
      "source": [
        "certificates_earned = pd.Series(\n",
        "    [8, 2, 5, 6],\n",
        "    index=['Tom', 'Kris', 'Ahmad', 'Beau']\n",
        ")\n",
        "\n",
        "print(certificates_earned)"
      ],
      "metadata": {
        "colab": {
          "base_uri": "https://localhost:8080/"
        },
        "id": "BgSwH7UjEKZs",
        "outputId": "21eb5da8-5e9c-4708-84fa-ae128db72e1a"
      },
      "execution_count": null,
      "outputs": [
        {
          "output_type": "stream",
          "name": "stdout",
          "text": [
            "Tom      8\n",
            "Kris     2\n",
            "Ahmad    5\n",
            "Beau     6\n",
            "dtype: int64\n"
          ]
        }
      ]
    },
    {
      "cell_type": "markdown",
      "source": [
        "### Pandas Indexing and Conditional Selection"
      ],
      "metadata": {
        "id": "Q8om2i7Rzu9e"
      }
    },
    {
      "cell_type": "code",
      "source": [
        "certificates_earned = pd.Series(\n",
        "    [8, 2, 5, 6],\n",
        "    index=['Tom', 'Kris', 'Ahmad', 'Beau']\n",
        ")\n",
        "\n",
        "print(certificates_earned[certificates_earned > 5])"
      ],
      "metadata": {
        "colab": {
          "base_uri": "https://localhost:8080/"
        },
        "id": "AZuUOi0_Fh0H",
        "outputId": "896a93e8-ad9d-4f31-f874-5cafd94c3b77"
      },
      "execution_count": null,
      "outputs": [
        {
          "output_type": "stream",
          "name": "stdout",
          "text": [
            "Tom     8\n",
            "Beau    6\n",
            "dtype: int64\n"
          ]
        }
      ]
    },
    {
      "cell_type": "markdown",
      "source": [
        "### Pandas DataFrames"
      ],
      "metadata": {
        "id": "hY5mNw2Uz5mI"
      }
    },
    {
      "cell_type": "code",
      "source": [
        "certificates_earned = pd.DataFrame({\n",
        "    'Certificates': [8, 2, 5, 6],\n",
        "    'Time (in months)': [16, 5, 9, 12]\n",
        "})\n",
        "\n",
        "certificates_earned.index = ['Tom', 'Kris', 'Ahmad', 'Beau']\n",
        "\n",
        "print(certificates_earned.iloc[2])"
      ],
      "metadata": {
        "colab": {
          "base_uri": "https://localhost:8080/"
        },
        "id": "NNgOBNswFxCK",
        "outputId": "39fbeac1-32f3-428d-e881-9dfc297bb41b"
      },
      "execution_count": null,
      "outputs": [
        {
          "output_type": "stream",
          "name": "stdout",
          "text": [
            "Certificates        5\n",
            "Time (in months)    9\n",
            "Name: Ahmad, dtype: int64\n"
          ]
        }
      ]
    },
    {
      "cell_type": "markdown",
      "source": [
        "### Pandas Conditional Selection and Modifying DataFrames"
      ],
      "metadata": {
        "id": "FUwifjXF0G9u"
      }
    },
    {
      "cell_type": "code",
      "source": [
        "certificates_earned = pd.DataFrame({\n",
        "    'Certificates': [8, 2, 5, 6],\n",
        "    'Time (in months)': [16, 5, 9, 12]\n",
        "})\n",
        "names = ['Tom', 'Kris', 'Ahmad', 'Beau']\n",
        "\n",
        "certificates_earned.index = names\n",
        "longest_streak = pd.Series([13, 11, 9, 7], index=names)\n",
        "certificates_earned['Longest streak'] = longest_streak\n",
        "\n",
        "print(certificates_earned)"
      ],
      "metadata": {
        "colab": {
          "base_uri": "https://localhost:8080/"
        },
        "id": "ruReAIP5F1cd",
        "outputId": "5ee004b4-8a98-4aae-9d7d-33967f7cbe2f"
      },
      "execution_count": null,
      "outputs": [
        {
          "output_type": "stream",
          "name": "stdout",
          "text": [
            "       Certificates  Time (in months)  Longest streak\n",
            "Tom               8                16              13\n",
            "Kris              2                 5              11\n",
            "Ahmad             5                 9               9\n",
            "Beau              6                12               7\n"
          ]
        }
      ]
    },
    {
      "cell_type": "markdown",
      "source": [
        "### Pandas Creating Columns"
      ],
      "metadata": {
        "id": "PlSrf9boQEmZ"
      }
    },
    {
      "cell_type": "code",
      "source": [
        "certificates_earned['Certificates per month'] = round(\n",
        "    certificates_earned['Certificates'] /\n",
        "    certificates_earned['Time (in months)'], 2\n",
        ")\n",
        "print(certificates_earned)"
      ],
      "metadata": {
        "colab": {
          "base_uri": "https://localhost:8080/"
        },
        "id": "6bkr60lQF9fE",
        "outputId": "e55e150f-2aed-4b7f-eb8c-7fbfdf4abeb6"
      },
      "execution_count": null,
      "outputs": [
        {
          "output_type": "stream",
          "name": "stdout",
          "text": [
            "       Certificates  Time (in months)  Longest streak  Certificates per month\n",
            "Tom               8                16              13                    0.50\n",
            "Kris              2                 5              11                    0.40\n",
            "Ahmad             5                 9               9                    0.56\n",
            "Beau              6                12               7                    0.50\n"
          ]
        }
      ]
    },
    {
      "cell_type": "markdown",
      "source": [
        "### Data Cleaning Introduction"
      ],
      "metadata": {
        "id": "2y-mhNztQM2Z"
      }
    },
    {
      "cell_type": "code",
      "source": [
        "s = pd.Series(['a', 3, np.nan, 1, np.nan])\n",
        "\n",
        "print(s.notnull().sum())"
      ],
      "metadata": {
        "colab": {
          "base_uri": "https://localhost:8080/"
        },
        "id": "PpsVsN24GK8d",
        "outputId": "fd741e62-4376-4639-8d42-905a1364726e"
      },
      "execution_count": null,
      "outputs": [
        {
          "output_type": "stream",
          "name": "stdout",
          "text": [
            "3\n"
          ]
        }
      ]
    },
    {
      "cell_type": "markdown",
      "source": [
        "### Data Cleaning with DataFrames"
      ],
      "metadata": {
        "id": "TaaorZTQQUlE"
      }
    },
    {
      "cell_type": "code",
      "source": [
        "s = pd.Series([np.nan, 1, 2, np.nan, 3])\n",
        "s = s.fillna(method='ffill')\n",
        "\n",
        "print(s)"
      ],
      "metadata": {
        "colab": {
          "base_uri": "https://localhost:8080/"
        },
        "id": "Wpm2wbcPGPy7",
        "outputId": "1dab2443-0dd3-47f3-ad17-88bc0771d1ab"
      },
      "execution_count": null,
      "outputs": [
        {
          "output_type": "stream",
          "name": "stdout",
          "text": [
            "0    NaN\n",
            "1    1.0\n",
            "2    2.0\n",
            "3    2.0\n",
            "4    3.0\n",
            "dtype: float64\n"
          ]
        }
      ]
    },
    {
      "cell_type": "markdown",
      "source": [
        "### Data Cleaning and Visualizations"
      ],
      "metadata": {
        "id": "rJTxtShnQhpu"
      }
    },
    {
      "cell_type": "code",
      "source": [
        "plt.subplot(1, 2, 1)"
      ],
      "metadata": {
        "colab": {
          "base_uri": "https://localhost:8080/",
          "height": 286
        },
        "id": "zRqTWylXGgyp",
        "outputId": "a96ed93c-6f04-414b-e2f2-eb6256238fa0"
      },
      "execution_count": null,
      "outputs": [
        {
          "output_type": "execute_result",
          "data": {
            "text/plain": [
              "<matplotlib.axes._subplots.AxesSubplot at 0x7f8b7b46bad0>"
            ]
          },
          "metadata": {},
          "execution_count": 24
        },
        {
          "output_type": "display_data",
          "data": {
            "text/plain": [
              "<Figure size 432x288 with 1 Axes>"
            ],
            "image/png": "[encoded data removed]"
          },
          "metadata": {
            "needs_background": "light"
          }
        }
      ]
    },
    {
      "cell_type": "markdown",
      "source": [
        "### Reading Data Introduction"
      ],
      "metadata": {
        "id": "f4IoxSkfQpyI"
      }
    },
    {
      "cell_type": "code",
      "source": [
        "import csv\n",
        "\n",
        "with open('certificates.csv', 'r') as fp:\n",
        "    reader = csv.reader(fp, delimiter='$')\n",
        "    next(reader)\n",
        "    for index, values in enumerate(reader):\n",
        "        name, certs_num, months_num = values\n",
        "        print(f\"{name} earned {certs_num} certificates in {months_num} months\")"
      ],
      "metadata": {
        "colab": {
          "base_uri": "https://localhost:8080/"
        },
        "id": "Sp1-D4RZGqjM",
        "outputId": "46b355f0-4a07-4ceb-b961-c0131a74b55f"
      },
      "execution_count": null,
      "outputs": [
        {
          "output_type": "stream",
          "name": "stdout",
          "text": [
            "Tom earned 8 certificates in 16 months\n",
            "Kris earned 2 certificates in 5 months\n",
            "Ahmad earned 5 certificates in 9 months\n",
            "Beau earned 6 certificates in 12 months\n"
          ]
        }
      ]
    },
    {
      "cell_type": "markdown",
      "source": [
        "### Basics of Numpy"
      ],
      "metadata": {
        "id": "3sl5l1C37nIa"
      }
    },
    {
      "cell_type": "code",
      "source": [
        "b = np.array([[1.0,2.0,3.0],[3.0,4.0,5.0]])\n",
        "print(b)"
      ],
      "metadata": {
        "colab": {
          "base_uri": "https://localhost:8080/"
        },
        "id": "noPa9wZF7u2f",
        "outputId": "9db2d70f-6071-4be5-c27a-775dd3492ee7"
      },
      "execution_count": null,
      "outputs": [
        {
          "output_type": "stream",
          "name": "stdout",
          "text": [
            "[[1. 2. 3.]\n",
            " [3. 4. 5.]]\n"
          ]
        }
      ]
    },
    {
      "cell_type": "markdown",
      "source": [
        "### Accessing and Changing Elements, Rows, Columns"
      ],
      "metadata": {
        "id": "07dYe0ft79a_"
      }
    },
    {
      "cell_type": "code",
      "source": [
        "# What code would change the values in the 3rd column of both of the following Numpy arrays to 20?\n",
        "a = np.array([[1, 2, 3, 4, 5], [6, 7, 8, 9, 10]])\n",
        "\n",
        "# Answer\n",
        "a[:, 2] = 20\n",
        "print(a)\n",
        "\n",
        "# Output:\n",
        "# [[ 1  2  20  4  5]\n",
        "# [ 6  7 20  9 10]]"
      ],
      "metadata": {
        "colab": {
          "base_uri": "https://localhost:8080/"
        },
        "id": "AK7O4cKp7_tk",
        "outputId": "dfff611c-ab49-402e-caa7-d2bd0c7e6a03"
      },
      "execution_count": null,
      "outputs": [
        {
          "output_type": "stream",
          "name": "stdout",
          "text": [
            "[[ 1  2 20  4  5]\n",
            " [ 6  7 20  9 10]]\n"
          ]
        }
      ]
    },
    {
      "cell_type": "markdown",
      "source": [
        "### Initializing Different Arrays"
      ],
      "metadata": {
        "id": "qK69G8ZY8i8z"
      }
    },
    {
      "cell_type": "code",
      "source": [
        "a = np.array([[1, 2, 3, 4, 5], [6, 7, 8, 9, 10]])\n",
        "\n",
        "print(np.full_like(a, 100))"
      ],
      "metadata": {
        "colab": {
          "base_uri": "https://localhost:8080/"
        },
        "id": "bS1NaFZQ8iRu",
        "outputId": "2a52598f-161e-41cd-9764-ff418c136e08"
      },
      "execution_count": null,
      "outputs": [
        {
          "output_type": "stream",
          "name": "stdout",
          "text": [
            "[[100 100 100 100 100]\n",
            " [100 100 100 100 100]]\n"
          ]
        }
      ]
    },
    {
      "cell_type": "markdown",
      "source": [
        "### Initialize Array Problem"
      ],
      "metadata": {
        "id": "55rOi3-x8pyK"
      }
    },
    {
      "cell_type": "code",
      "source": [
        "output = np.zeros((7,7))\n",
        "\n",
        "z = np.ones((5, 5))\n",
        "z[2, 2] = 5\n",
        "\n",
        "output[1:-1, 1:-1] = z\n",
        "print(output)"
      ],
      "metadata": {
        "colab": {
          "base_uri": "https://localhost:8080/"
        },
        "id": "Mecjviik8pWF",
        "outputId": "befd7acb-c507-4527-aa4e-ffd5431f5a39"
      },
      "execution_count": null,
      "outputs": [
        {
          "output_type": "stream",
          "name": "stdout",
          "text": [
            "[[0. 0. 0. 0. 0. 0. 0.]\n",
            " [0. 1. 1. 1. 1. 1. 0.]\n",
            " [0. 1. 1. 1. 1. 1. 0.]\n",
            " [0. 1. 1. 5. 1. 1. 0.]\n",
            " [0. 1. 1. 1. 1. 1. 0.]\n",
            " [0. 1. 1. 1. 1. 1. 0.]\n",
            " [0. 0. 0. 0. 0. 0. 0.]]\n"
          ]
        }
      ]
    },
    {
      "cell_type": "markdown",
      "source": [
        "### Copying Arrays Warning"
      ],
      "metadata": {
        "id": "YSgrpoH38-Ld"
      }
    },
    {
      "cell_type": "code",
      "source": [
        "a = np.array([1, 2, 3, 4, 5])\n",
        "b = a\n",
        "b[2] = 20\n",
        "print(b)"
      ],
      "metadata": {
        "colab": {
          "base_uri": "https://localhost:8080/"
        },
        "id": "5qj0QpFo8-02",
        "outputId": "ed5cd060-acba-4d16-ced0-e8b72a4bc085"
      },
      "execution_count": null,
      "outputs": [
        {
          "output_type": "stream",
          "name": "stdout",
          "text": [
            "[ 1  2 20  4  5]\n"
          ]
        }
      ]
    },
    {
      "cell_type": "markdown",
      "source": [
        "### Mathematics"
      ],
      "metadata": {
        "id": "8_zVELGX9HOv"
      }
    },
    {
      "cell_type": "code",
      "source": [
        "a = np.array(([1, 2, 3, 4, 5], [6, 7, 8, 9, 10]))\n",
        "b = np.max(a, axis=1).sum()\n",
        "print(b)"
      ],
      "metadata": {
        "colab": {
          "base_uri": "https://localhost:8080/"
        },
        "id": "65QP43Of9G3N",
        "outputId": "4c901e3e-3e5b-471b-bb9a-c96b0a740bbb"
      },
      "execution_count": null,
      "outputs": [
        {
          "output_type": "stream",
          "name": "stdout",
          "text": [
            "15\n"
          ]
        }
      ]
    },
    {
      "cell_type": "markdown",
      "source": [
        "### Reorganizing Arrays"
      ],
      "metadata": {
        "id": "mLmX-WYH9QTH"
      }
    },
    {
      "cell_type": "code",
      "source": [
        "a = np.ones((2, 4))\n",
        "b = a.reshape((4, 2))\n",
        "print(b)"
      ],
      "metadata": {
        "colab": {
          "base_uri": "https://localhost:8080/"
        },
        "id": "H2R9y1Ll9QcX",
        "outputId": "0cf2eb04-0ebd-491d-cd0f-40e32c727963"
      },
      "execution_count": null,
      "outputs": [
        {
          "output_type": "stream",
          "name": "stdout",
          "text": [
            "[[1. 1.]\n",
            " [1. 1.]\n",
            " [1. 1.]\n",
            " [1. 1.]]\n"
          ]
        }
      ]
    },
    {
      "cell_type": "markdown",
      "source": [
        "### Loading Data and Advanced Indexing"
      ],
      "metadata": {
        "id": "30X0Zch99b0R"
      }
    },
    {
      "cell_type": "code",
      "source": [
        "filedata = np.genfromtxt('data.txt', delimiter=',')\n",
        "output = filedata[filedata < 50]\n",
        "\n",
        "print(output)"
      ],
      "metadata": {
        "colab": {
          "base_uri": "https://localhost:8080/"
        },
        "id": "gt3F5nTP9b85",
        "outputId": "c8062d38-c01d-4742-a4f4-df295fd9459c"
      },
      "execution_count": null,
      "outputs": [
        {
          "output_type": "stream",
          "name": "stdout",
          "text": [
            "[29. 32. 45. 15.  5. 22.]\n"
          ]
        }
      ]
    }
  ]
}